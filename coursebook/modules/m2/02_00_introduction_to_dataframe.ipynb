{
 "cells": [
  {
   "attachments": {},
   "cell_type": "markdown",
   "id": "e270646a",
   "metadata": {},
   "source": [
    "# Introduction to the DataFrame API\n",
    "\n",
    "In this section, we will introduce the [DataFrame and Dataset APIs](https://spark.apache.org/docs/latest/sql-programming-guide.html).\n",
    "\n",
    "We will use a small subset from the [Record Linkage Comparison Data Set](https://archive.ics.uci.edu/ml/datasets/record+linkage+comparison+patterns), borrowed from UC Irvine Machine Learning Repository. It consists of several CSV files with match scores for patients in a Germany hospital, but we will use only one of them for the sake of simplicity. Please consult {cite:p}`schmidtmann2009evaluation` and {cite:p}`sariyar2011controlling` for more details regarding the data sets and research. "
   ]
  },
  {
   "cell_type": "markdown",
   "id": "f1a0a219",
   "metadata": {},
   "source": [
    "## Setup\n",
    "- Setup a `SparkSession` to work with the Dataset and DataFrame API\n",
    "- Unzip the `scores.zip` file located under `data` folder."
   ]
  },
  {
   "cell_type": "code",
   "execution_count": null,
   "id": "46b8804c",
   "metadata": {},
   "outputs": [],
   "source": [
    "from pyspark import SparkContext, SparkConf\n",
    "\n",
    "conf = SparkConf().setAppName(\"intro-to-df\").setMaster(\"local\")\n",
    "sc = SparkContext(conf=conf)\n",
    "# Avoid polluting the console with warning messages\n",
    "sc.setLogLevel(\"ERROR\")"
   ]
  },
  {
   "cell_type": "markdown",
   "id": "fdba91de",
   "metadata": {},
   "source": [
    "### Create a SparkSession to work with the DataFrame API"
   ]
  },
  {
   "cell_type": "code",
   "execution_count": null,
   "id": "55551972",
   "metadata": {},
   "outputs": [],
   "source": [
    "from pyspark.sql import SparkSession\n",
    "\n",
    "spark = SparkSession(sc)"
   ]
  },
  {
   "cell_type": "markdown",
   "id": "64e10026",
   "metadata": {},
   "source": [
    "### Unzip the scores file, if it was not done already"
   ]
  },
  {
   "cell_type": "code",
   "execution_count": null,
   "id": "5d936fe3",
   "metadata": {},
   "outputs": [],
   "source": [
    "from os import path\n",
    "scores_zip = path.join(\"data\", \"scores.zip\")\n",
    "scores_csv = path.join(\"data\", \"scores.csv\")\n",
    "\n",
    "%set_env SCORES_ZIP=$scores_zip\n",
    "%set_env SCORES_CSV=$scores_csv"
   ]
  },
  {
   "cell_type": "code",
   "execution_count": null,
   "id": "a735dcae",
   "metadata": {},
   "outputs": [],
   "source": [
    "%%bash\n",
    "command -v unzip >/dev/null 2>&1 || { echo >&2 \"unzip command is not installed. Aborting.\"; exit 1; }\n",
    "[[ -f \"$SCORES_CSV\" ]] && { echo \"file data/$SCORES_CSV already exist. Skipping.\"; exit 0; }\n",
    "\n",
    "[[ -f \"$SCORES_ZIP\" ]] || { echo \"file data/$SCORES_ZIP does not exist. Aborting.\"; exit 1; }\n",
    "\n",
    "echo \"Unzip file $SCORES_ZIP\"\n",
    "unzip \"$SCORES_ZIP\" -d data"
   ]
  },
  {
   "cell_type": "code",
   "execution_count": null,
   "id": "42c2515a",
   "metadata": {},
   "outputs": [],
   "source": [
    "! head \"$SCORES_CSV\""
   ]
  },
  {
   "cell_type": "markdown",
   "id": "25100f59",
   "metadata": {},
   "source": [
    "## Loading the Scores CSV file into a DataFrame"
   ]
  },
  {
   "cell_type": "markdown",
   "id": "dd4cf67b",
   "metadata": {},
   "source": [
    "## References\n",
    "\n",
    "```{bibliography}\n",
    ":style: unsrt\n",
    ":filter: docname in docnames\n",
    "```"
   ]
  }
 ],
 "metadata": {
  "kernelspec": {
   "display_name": "bda-labs",
   "language": "python",
   "name": "bda-labs"
  },
  "language_info": {
   "codemirror_mode": {
    "name": "ipython",
    "version": 3
   },
   "file_extension": ".py",
   "mimetype": "text/x-python",
   "name": "python",
   "nbconvert_exporter": "python",
   "pygments_lexer": "ipython3",
   "version": "3.10.2"
  }
 },
 "nbformat": 4,
 "nbformat_minor": 5
}
